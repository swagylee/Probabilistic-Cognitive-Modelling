{
 "cells": [
  {
   "cell_type": "markdown",
   "metadata": {},
   "source": [
    "University of Helsinki, Master's Programme in Data Science  \n",
    "DATA20047 Probabilistic Cognitive Modelling - Spring 2023  \n",
    "Luigi Acerbi  \n",
    "\n",
    "# Problem Set 1: Bayesian inference in perception\n",
    "\n",
    "- This homework problem set focuses on **Week 1 and 2** of the course.\n",
    "- This problem set is worth **20 points** in total (out of 100 for the full course).\n",
    "- Check the submission deadline on Moodle!\n",
    "\n",
    "\n",
    "## Submission instructions\n",
    "\n",
    "Submission must be perfomed entirely on Moodle (**not** by email).\n",
    "1. When you have completed the exercises, save the notebook.\n",
    "2. Report your solutions and answers on Moodle (\"*Problem set 1 answer return*\").\n",
    "3. Submit two files on Moodle (\"*Problem set 1 notebook return*\"): \n",
    "  - The notebook as `.ipynb`.\n",
    "  - The same notebook downloaded as `.pdf` (there are various ways to save the file as PDF, the most general is \"File\" > \"Print Preview\" and then print the page to PDF using your browser - remember to enter the Print Preview first).\n",
    "\n",
    "## IMPORTANT\n",
    "\n",
    "1. Do not share your code and answers with others. Contrary to the class exercises, which you can do with others, these problems are *not* group work and must be done individually.\n",
    "2. It is allowed to use snippets of code from the lecture exercises and model solutions.\n",
    "3. It is your responsibility to ensure that the notebook has fully finished running all the cells, all the plots view properly etc. before submitting it. However, the notebook should be runnable from scratch if needed (\"Kernel > Restart & Run All\").\n",
    "4. Submit your work by the deadline.\n",
    "5. Unless stated otherwise, please report your numerical answers in Moodle with full numerical precision (~14-15 digits), unless the answer is an integer.\n",
    "6. If you are confused, think there is a mistake or find things too difficult, please ask on Moodle.\n",
    "\n",
    "## References\n",
    "\n",
    "- \\[**MKG22**\\] Ma WJ, Körding K, and Goldreich D. \"Bayesian Models of Perception and Action: An Introduction\". MIT Press, 2022.\n",
    "- *Acknowledgements*: Question 1.1 and 1.2 of this notebook are adapted from problems in \\[**MKG22**\\]."
   ]
  },
  {
   "cell_type": "code",
   "execution_count": 2,
   "metadata": {},
   "outputs": [],
   "source": [
    "# set-up -- do not change\n",
    "import numpy as np\n",
    "import scipy as sp\n",
    "import scipy.stats as sps\n",
    "import matplotlib.pyplot as plt\n",
    "np.random.seed(1)"
   ]
  },
  {
   "cell_type": "markdown",
   "metadata": {},
   "source": [
    "# Question 1.1 (5 pts)\n",
    "\n",
    "> This question is about performing Bayesian inference in an \"everyday\" scenario, with some simplifying assumptions. Related material was covered in Week 1 of the course.\n",
    "\n",
    "\n",
    "You are one of 80 passengers waiting for your bag at an airport luggage carousel (see Section 2.5 of \\[**MKG22**\\]). We assume each passenger has one and only one bag. In general, your bag looks the same as 6% of all bags. In formulas:\n",
    "$$\n",
    "p(\\text{looks like your bag}|\\text{it is your bag}) = 1, \\qquad p(\\text{looks like your bag}|\\text{it is not your bag}) = 0.06.\n",
    "$$\n",
    "\n",
    "Derive a general expression for the probability that the bag you are viewing (which matches your bag visually) is your own, $$p(\\text{it is your bag} | \\text{looks like your bag}),$$ \n",
    "as a function of the number of bags $b$ you have viewed so far (before the current one). \n",
    "\n",
    "- a) What is $p(\\text{it is your bag} | \\text{looks like your bag})$ after 40 bags have gone by, none of which was yours (that is, $b = 40$)?\n",
    "- b) How many bags must you view (without finding your own) before the posterior probability $p(\\text{it is your bag}|\\text{looks like your bag})$ is equal or greater than 70%?\n",
    "\n",
    "Report your results in Moodle."
   ]
  },
  {
   "cell_type": "code",
   "execution_count": 13,
   "metadata": {},
   "outputs": [
    {
     "data": {
      "text/plain": [
       "0.29940119760479045"
      ]
     },
     "execution_count": 13,
     "metadata": {},
     "output_type": "execute_result"
    }
   ],
   "source": [
    "# code here...\n",
    "(1/40)/(1/40 + 0.06 * 39 /40)"
   ]
  },
  {
   "cell_type": "markdown",
   "metadata": {},
   "source": [
    "# Question 1.2 (5 pts)\n",
    "\n",
    "> This question deals with how perception about the world is influenced by the statistics of the environment. See Chapter 2 and particularly Section 2.6 of \\[**MKG22**\\].\n",
    "\n",
    "\n",
    "Imagine you live in a very boring world consisting of a 2 x 10 grid of squares:\n",
    "\n",
    "```\n",
    "▢▢▢▢▢▢▢▢▢▢\n",
    "▢▢▢▢▢▢▢▢▢▢\n",
    "```\n",
    "Only two things ever happen in this world: \n",
    "- $H1$ (\"vertical bar\"): With a probability of 30%, a vertical bar will appear in this world, consisting of two black squares in a column, chosen so that each possible column is equally probable. \n",
    "- $H2$ (\"independent dots\"): With a probability of 70%, one black square will appear in a random position in the top row (uniformly chosen), and another black square will appear in a random position in the bottom row (uniformly chosen, independently from the first row). \n",
    "\n",
    "When doing inference, we will refer to these possibilities as Hypotheses 1 and 2 ($H1$ and $H2$), respectively.\n",
    "\n",
    "- a) Suppose that as an observer in this world, you see the following retinal image ($\\text{obs}_a$):\n",
    "```\n",
    "▢▢▢▢▢▢■▢▢▢\n",
    "▢▢▢▢▢■▢▢▢▢\n",
    "```  \n",
    "  Calculate the posterior probability of $H1$ and $H2$ and report your results in Moodle.\n",
    "  \n",
    "- b) Suppose in another scenario you have the following retinal image ($\\text{obs}_b$):\n",
    "```\n",
    "▢▢▢▢▢▢■▢▢▢\n",
    "▢▢▢▢▢▢■▢▢▢\n",
    "```  \n",
    "  Calculate the posterior probability of $H1$ and $H2$ and report your results in Moodle.\n",
    "\n",
    "- c) Write out a brief explanation of your reasoning for parts (a) and (b), and report them in Moodle. Add a brief explanation for how your answer to (b) may explain why observers in this world may tend to perceive the second image as containing a *single object*, as opposed to two separate dots. (max 200 words)"
   ]
  },
  {
   "cell_type": "markdown",
   "metadata": {},
   "source": [
    "### Answers\n",
    "\n",
    "Write your extended answers here if needed, and report a summary in Moodle (max 200 words)."
   ]
  },
  {
   "cell_type": "code",
   "execution_count": 35,
   "metadata": {},
   "outputs": [
    {
     "data": {
      "text/plain": [
       "0.8108108108108109"
      ]
     },
     "execution_count": 35,
     "metadata": {},
     "output_type": "execute_result"
    }
   ],
   "source": [
    "# code here...\n",
    "# b)\n",
    "ph1 = 0.03/(0.03+0.007)\n",
    "ph2 = 1 - ph1\n",
    "ph1"
   ]
  },
  {
   "cell_type": "code",
   "execution_count": 36,
   "metadata": {},
   "outputs": [
    {
     "data": {
      "text/plain": [
       "0.18918918918918914"
      ]
     },
     "execution_count": 36,
     "metadata": {},
     "output_type": "execute_result"
    }
   ],
   "source": [
    "ph2"
   ]
  },
  {
   "cell_type": "markdown",
   "metadata": {},
   "source": [
    "# Question 1.3 (5 pts)\n",
    "\n",
    "> In this question, we examine how an observer would estimate a continuous quantity under a noisy measurement.\n",
    "\n",
    "An observer is estimating the horizontal location of a visual stimulus on a screen (for simplicity, we assume a 1D problem). \n",
    "\n",
    "We assume a Bayesian observer with prior $p(s_\\text{hyp}) = \\mathcal{N}\\left(s| \\mu_s = 2, \\sigma_s^2 = 5^2 \\right)$ and likelihood function $p(x_\\text{obs}| s_\\text{hyp}) = \\mathcal{N}\\left(x_\\text{obs}| s_\\text{hyp}, \\sigma^2 = 2^2 \\right)$ with observed noisy measurement $x_\\text{obs} = -3$, in arbitrary units.\n",
    "\n",
    "- a) What's the value of the posterior mean estimate $\\hat{s}_\\text{PM}$?\n",
    "- b) What's the value of the maximum-likelihood estimate $\\hat{s}_\\text{ML}?$\n",
    "- c) What's the probability density of the posterior at $s_\\text{hyp} = 2.5$?\n",
    "\n",
    "Report your results in Moodle."
   ]
  },
  {
   "cell_type": "code",
   "execution_count": 22,
   "metadata": {},
   "outputs": [
    {
     "data": {
      "text/plain": [
       "0.007498207939080527"
      ]
     },
     "execution_count": 22,
     "metadata": {},
     "output_type": "execute_result"
    }
   ],
   "source": [
    "# code here...\n",
    "x_obs = -3\n",
    "mu_s = 2\n",
    "sigma_s = 5\n",
    "sigma = 2\n",
    "\n",
    "s_pm = (x_obs * sigma_s**2 + mu_s * sigma**2)/(sigma**2 + sigma_s**2)\n",
    "s_psigma = np.sqrt((sigma**2 * sigma_s**2)/(sigma**2 + sigma_s**2))\n",
    "posterior_pdf = sps.norm.pdf(2.5, s_pm, s_psigma)\n",
    "posterior_pdf"
   ]
  },
  {
   "cell_type": "markdown",
   "metadata": {},
   "source": [
    "# Question 1.4 (5 pts)\n",
    "\n",
    "> In this question, we examine a more complex inference scenario under a noisy measurement and a complex prior.\n",
    "\n",
    "\n",
    "A Bayesian observer is estimating the value of a stimulus (e.g., horizontal location of a sound source, in arbitrary units).\n",
    "The observer is told that there are two potential sound sources (e.g., two speakers hidden behind a screen), one to the right and one to the left (0 is straight ahead), but the observer is not told the exact location of these sound sources, just a vague position.\n",
    "\n",
    "Thus, we represent the observer's prior over the potential sound location as a mixture of $K = 2$ Gaussians:\n",
    "$$p(s_\\text{hyp}) = \\sum_{k=1}^K w_k \\mathcal{N}\\left(s_\\text{hyp}| \\mu_k, \\sigma_k^2\\right)$$\n",
    "where \n",
    "$$w_1 = w_2 = \\frac{1}{2}, \\qquad \\mu_1 = -3, \\mu_2 = 3, \\qquad \\sigma_1 = \\sigma_2 = 1.$$\n",
    "Each mixture component represents one of the two potential locations of the sound (each component is Gaussian, and not a single point, because the location of the source itself is not exactly known).\n",
    "\n",
    "After the sound is played (heard as noisy measurement $x_\\text{obs}$), the likelihood is Gaussian, $p(x_\\text{obs}| s_\\text{hyp}) = \\mathcal{N}\\left(x_\\text{obs}| s_\\text{hyp}, \\sigma^2 \\right)$, with $\\sigma = 1$.\n",
    "\n",
    "- a) Compute the posterior mean for $x_\\text{obs} = 1$ via numerical integration.\n",
    "- b) Compute $p(x_\\text{obs})$ for $x_\\text{obs} = 5$ via numerical integration.\n",
    "- c) Given that the prior is a mixture of Gaussians and the likelihood is Gaussian, this is a case in which we could still perform all computations analytically. Write the analytical expression for $p(x_\\text{obs})$. Double-check the validity of your expression by computing $p(x_\\text{obs})$ for $x_\\text{obs} = 5$ and that it is the same (up to a small numerical error) as what you got in part (b).\n",
    "\n",
    "Report your numerial results in Moodle, and write the analytical expression for $p\\left(x_\\text{obs}\\right)$ below."
   ]
  },
  {
   "attachments": {},
   "cell_type": "markdown",
   "metadata": {},
   "source": [
    "### Answer:\n",
    "\n",
    "Write your expression for $p(x_\\text{obs})$ here.\n",
    "\n",
    "\\begin{align*}\n",
    "p(x_{obs})   &= \\int p(s_{hyp})p(x_{obs} \\mid s_{hyp})ds \\\\\n",
    "             &= \\frac{1}{2}(\\int N(s_{hyp} \\mid -3,1)N(s_{hyp} \\mid x,1)ds + \\int N(s_{hyp} \\mid 3,1)N(s_{hyp} \\mid x,1)ds) \\\\\n",
    "             &= \\frac{1}{2}(\\int N(x_{obs} \\mid -3,\\sqrt{2})N(s_{hyp} \\mid 1,\\frac{\\sqrt{2}}{2})ds + \\int N(x_{obs} \\mid 3,\\sqrt{2})N(s_{hyp} \\mid 4,\\frac{\\sqrt{2}}{2})ds) \\\\\n",
    "             &= \\frac{1}{2}(N(x_{obs} \\mid -3,\\sqrt{2}) + N(x_{obs} \\mid 3,\\sqrt{2}))\n",
    "\n",
    "\\end{align*}\n"
   ]
  },
  {
   "cell_type": "code",
   "execution_count": 28,
   "metadata": {
    "scrolled": true
   },
   "outputs": [
    {
     "data": {
      "text/plain": [
       "1.8577223804673217"
      ]
     },
     "execution_count": 28,
     "metadata": {},
     "output_type": "execute_result"
    }
   ],
   "source": [
    "# code here...\n",
    "w1 = 0.5\n",
    "w2 = 0.5\n",
    "mu1 = -3\n",
    "mu2 = 3\n",
    "sigma1 = 1\n",
    "sigma2 = 1\n",
    "N = int(2**9 + 1)\n",
    "xobs1 = 1\n",
    "xobs2 = 5\n",
    "lb = mu1 - 5 * sigma1\n",
    "hb = mu2 + 5 * sigma2\n",
    "s_grid = np.linspace(lb, hb, N)\n",
    "\n",
    "prior_pdf = w1 * sps.norm.pdf(s_grid, mu1, sigma1) + w2 * sps.norm.pdf(s_grid, mu2, sigma2)\n",
    "likelihood1 = sps.norm.pdf(s_grid, xobs1, sigma1)\n",
    "ds = s_grid[1] - s_grid[0]\n",
    "protoposterior = prior_pdf * likelihood1\n",
    "normalization_constant = sp.integrate.romb(protoposterior, dx=ds)\n",
    "posterior_pdf = protoposterior / normalization_constant\n",
    "posterior_mean = sp.integrate.romb(posterior_pdf * s_grid, dx=ds)\n",
    "posterior_mean"
   ]
  },
  {
   "cell_type": "code",
   "execution_count": 29,
   "metadata": {},
   "outputs": [
    {
     "data": {
      "text/plain": [
       "0.05188845265037266"
      ]
     },
     "execution_count": 29,
     "metadata": {},
     "output_type": "execute_result"
    }
   ],
   "source": [
    "likelihood2 = sps.norm.pdf(s_grid, xobs2, sigma1)\n",
    "protoposterior1 = prior_pdf * likelihood2\n",
    "normalization_constant1 = sp.integrate.romb(protoposterior1, dx=ds)\n",
    "normalization_constant1"
   ]
  },
  {
   "cell_type": "code",
   "execution_count": 31,
   "metadata": {},
   "outputs": [
    {
     "data": {
      "text/plain": [
       "0.05188845305036769"
      ]
     },
     "execution_count": 31,
     "metadata": {},
     "output_type": "execute_result"
    }
   ],
   "source": [
    "xobs5 = (sps.norm.pdf(xobs2, -3, np.sqrt(2)) + sps.norm.pdf(xobs2, 3, np.sqrt(2)))/2\n",
    "xobs5"
   ]
  }
 ],
 "metadata": {
  "kernelspec": {
   "display_name": "base",
   "language": "python",
   "name": "python3"
  },
  "language_info": {
   "codemirror_mode": {
    "name": "ipython",
    "version": 3
   },
   "file_extension": ".py",
   "mimetype": "text/x-python",
   "name": "python",
   "nbconvert_exporter": "python",
   "pygments_lexer": "ipython3",
   "version": "3.9.12"
  },
  "vscode": {
   "interpreter": {
    "hash": "79665e5acb2b575c94fbeec7275a99a8c90a2feb0e5197b703488eab2cb26c87"
   }
  }
 },
 "nbformat": 4,
 "nbformat_minor": 4
}
